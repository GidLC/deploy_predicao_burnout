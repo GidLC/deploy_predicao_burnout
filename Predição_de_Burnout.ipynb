{
  "cells": [
    {
      "cell_type": "markdown",
      "metadata": {
        "id": "ZgvBalnq6lwe"
      },
      "source": [
        "# **Problema de negócio**"
      ]
    },
    {
      "cell_type": "markdown",
      "metadata": {
        "id": "X6hxAVLs6ll8"
      },
      "source": [
        "# Precisamos prever a taxa de esgotamento dos funcionários com base nos recursos fornecidos, ajudando assim a empresa a tomar as medidas adequadas para saúde mental dos seus colaboradores."
      ]
    },
    {
      "cell_type": "markdown",
      "metadata": {
        "id": "ReKONYSw68pC"
      },
      "source": [
        "# **Análise Exploratória de Dados**\n",
        "\n"
      ]
    },
    {
      "cell_type": "code",
      "execution_count": 4,
      "metadata": {
        "id": "Np8T_Sa73iT3"
      },
      "outputs": [],
      "source": [
        "import pandas as pd\n",
        "import matplotlib.pyplot as plt\n",
        "import seaborn as sns\n",
        "import numpy as np\n",
        "from sklearn.model_selection import train_test_split\n",
        "from sklearn.metrics import r2_score\n",
        "from sklearn.ensemble import BaggingClassifier\n",
        "from sklearn.tree import DecisionTreeClassifier\n",
        "from sklearn.linear_model import LinearRegression\n",
        "from sklearn.neighbors import KNeighborsRegressor\n",
        "from sklearn.tree import DecisionTreeRegressor\n",
        "from sklearn.metrics import mean_squared_error\n",
        "from sklearn.metrics import mean_absolute_error\n",
        "from lightgbm import LGBMRegressor\n",
        "from datetime import datetime"
      ]
    },
    {
      "cell_type": "code",
      "execution_count": 5,
      "metadata": {
        "id": "yrzoCfrcD9wX"
      },
      "outputs": [],
      "source": [
        "df = pd.read_csv(\"train.csv\")"
      ]
    },
    {
      "cell_type": "code",
      "execution_count": 6,
      "metadata": {
        "colab": {
          "base_uri": "https://localhost:8080/",
          "height": 468
        },
        "id": "hyLIs_heM-og",
        "outputId": "e6af24e2-4dff-4cfc-8f08-857c7891b027"
      },
      "outputs": [
        {
          "data": {
            "text/html": [
              "<div>\n",
              "<style scoped>\n",
              "    .dataframe tbody tr th:only-of-type {\n",
              "        vertical-align: middle;\n",
              "    }\n",
              "\n",
              "    .dataframe tbody tr th {\n",
              "        vertical-align: top;\n",
              "    }\n",
              "\n",
              "    .dataframe thead th {\n",
              "        text-align: right;\n",
              "    }\n",
              "</style>\n",
              "<table border=\"1\" class=\"dataframe\">\n",
              "  <thead>\n",
              "    <tr style=\"text-align: right;\">\n",
              "      <th></th>\n",
              "      <th>Employee ID</th>\n",
              "      <th>Date of Joining</th>\n",
              "      <th>Gender</th>\n",
              "      <th>Company Type</th>\n",
              "      <th>WFH Setup Available</th>\n",
              "      <th>Designation</th>\n",
              "      <th>Resource Allocation</th>\n",
              "      <th>Mental Fatigue Score</th>\n",
              "      <th>Burn Rate</th>\n",
              "    </tr>\n",
              "  </thead>\n",
              "  <tbody>\n",
              "    <tr>\n",
              "      <th>0</th>\n",
              "      <td>fffe32003000360033003200</td>\n",
              "      <td>2008-09-30</td>\n",
              "      <td>Female</td>\n",
              "      <td>Service</td>\n",
              "      <td>No</td>\n",
              "      <td>2.0</td>\n",
              "      <td>3.0</td>\n",
              "      <td>3.8</td>\n",
              "      <td>0.16</td>\n",
              "    </tr>\n",
              "    <tr>\n",
              "      <th>1</th>\n",
              "      <td>fffe3700360033003500</td>\n",
              "      <td>2008-11-30</td>\n",
              "      <td>Male</td>\n",
              "      <td>Service</td>\n",
              "      <td>Yes</td>\n",
              "      <td>1.0</td>\n",
              "      <td>2.0</td>\n",
              "      <td>5.0</td>\n",
              "      <td>0.36</td>\n",
              "    </tr>\n",
              "    <tr>\n",
              "      <th>2</th>\n",
              "      <td>fffe31003300320037003900</td>\n",
              "      <td>2008-03-10</td>\n",
              "      <td>Female</td>\n",
              "      <td>Product</td>\n",
              "      <td>Yes</td>\n",
              "      <td>2.0</td>\n",
              "      <td>NaN</td>\n",
              "      <td>5.8</td>\n",
              "      <td>0.49</td>\n",
              "    </tr>\n",
              "    <tr>\n",
              "      <th>3</th>\n",
              "      <td>fffe32003400380032003900</td>\n",
              "      <td>2008-11-03</td>\n",
              "      <td>Male</td>\n",
              "      <td>Service</td>\n",
              "      <td>Yes</td>\n",
              "      <td>1.0</td>\n",
              "      <td>1.0</td>\n",
              "      <td>2.6</td>\n",
              "      <td>0.20</td>\n",
              "    </tr>\n",
              "    <tr>\n",
              "      <th>4</th>\n",
              "      <td>fffe31003900340031003600</td>\n",
              "      <td>2008-07-24</td>\n",
              "      <td>Female</td>\n",
              "      <td>Service</td>\n",
              "      <td>No</td>\n",
              "      <td>3.0</td>\n",
              "      <td>7.0</td>\n",
              "      <td>6.9</td>\n",
              "      <td>0.52</td>\n",
              "    </tr>\n",
              "    <tr>\n",
              "      <th>...</th>\n",
              "      <td>...</td>\n",
              "      <td>...</td>\n",
              "      <td>...</td>\n",
              "      <td>...</td>\n",
              "      <td>...</td>\n",
              "      <td>...</td>\n",
              "      <td>...</td>\n",
              "      <td>...</td>\n",
              "      <td>...</td>\n",
              "    </tr>\n",
              "    <tr>\n",
              "      <th>22745</th>\n",
              "      <td>fffe31003500370039003100</td>\n",
              "      <td>2008-12-30</td>\n",
              "      <td>Female</td>\n",
              "      <td>Service</td>\n",
              "      <td>No</td>\n",
              "      <td>1.0</td>\n",
              "      <td>3.0</td>\n",
              "      <td>NaN</td>\n",
              "      <td>0.41</td>\n",
              "    </tr>\n",
              "    <tr>\n",
              "      <th>22746</th>\n",
              "      <td>fffe33003000350031003800</td>\n",
              "      <td>2008-01-19</td>\n",
              "      <td>Female</td>\n",
              "      <td>Product</td>\n",
              "      <td>Yes</td>\n",
              "      <td>3.0</td>\n",
              "      <td>6.0</td>\n",
              "      <td>6.7</td>\n",
              "      <td>0.59</td>\n",
              "    </tr>\n",
              "    <tr>\n",
              "      <th>22747</th>\n",
              "      <td>fffe390032003000</td>\n",
              "      <td>2008-11-05</td>\n",
              "      <td>Male</td>\n",
              "      <td>Service</td>\n",
              "      <td>Yes</td>\n",
              "      <td>3.0</td>\n",
              "      <td>7.0</td>\n",
              "      <td>NaN</td>\n",
              "      <td>0.72</td>\n",
              "    </tr>\n",
              "    <tr>\n",
              "      <th>22748</th>\n",
              "      <td>fffe33003300320036003900</td>\n",
              "      <td>2008-01-10</td>\n",
              "      <td>Female</td>\n",
              "      <td>Service</td>\n",
              "      <td>No</td>\n",
              "      <td>2.0</td>\n",
              "      <td>5.0</td>\n",
              "      <td>5.9</td>\n",
              "      <td>0.52</td>\n",
              "    </tr>\n",
              "    <tr>\n",
              "      <th>22749</th>\n",
              "      <td>fffe3400350031003800</td>\n",
              "      <td>2008-01-06</td>\n",
              "      <td>Male</td>\n",
              "      <td>Product</td>\n",
              "      <td>No</td>\n",
              "      <td>3.0</td>\n",
              "      <td>6.0</td>\n",
              "      <td>7.8</td>\n",
              "      <td>0.61</td>\n",
              "    </tr>\n",
              "  </tbody>\n",
              "</table>\n",
              "<p>22750 rows × 9 columns</p>\n",
              "</div>"
            ],
            "text/plain": [
              "                    Employee ID Date of Joining  Gender Company Type  \\\n",
              "0      fffe32003000360033003200      2008-09-30  Female      Service   \n",
              "1          fffe3700360033003500      2008-11-30    Male      Service   \n",
              "2      fffe31003300320037003900      2008-03-10  Female      Product   \n",
              "3      fffe32003400380032003900      2008-11-03    Male      Service   \n",
              "4      fffe31003900340031003600      2008-07-24  Female      Service   \n",
              "...                         ...             ...     ...          ...   \n",
              "22745  fffe31003500370039003100      2008-12-30  Female      Service   \n",
              "22746  fffe33003000350031003800      2008-01-19  Female      Product   \n",
              "22747          fffe390032003000      2008-11-05    Male      Service   \n",
              "22748  fffe33003300320036003900      2008-01-10  Female      Service   \n",
              "22749      fffe3400350031003800      2008-01-06    Male      Product   \n",
              "\n",
              "      WFH Setup Available  Designation  Resource Allocation  \\\n",
              "0                      No          2.0                  3.0   \n",
              "1                     Yes          1.0                  2.0   \n",
              "2                     Yes          2.0                  NaN   \n",
              "3                     Yes          1.0                  1.0   \n",
              "4                      No          3.0                  7.0   \n",
              "...                   ...          ...                  ...   \n",
              "22745                  No          1.0                  3.0   \n",
              "22746                 Yes          3.0                  6.0   \n",
              "22747                 Yes          3.0                  7.0   \n",
              "22748                  No          2.0                  5.0   \n",
              "22749                  No          3.0                  6.0   \n",
              "\n",
              "       Mental Fatigue Score  Burn Rate  \n",
              "0                       3.8       0.16  \n",
              "1                       5.0       0.36  \n",
              "2                       5.8       0.49  \n",
              "3                       2.6       0.20  \n",
              "4                       6.9       0.52  \n",
              "...                     ...        ...  \n",
              "22745                   NaN       0.41  \n",
              "22746                   6.7       0.59  \n",
              "22747                   NaN       0.72  \n",
              "22748                   5.9       0.52  \n",
              "22749                   7.8       0.61  \n",
              "\n",
              "[22750 rows x 9 columns]"
            ]
          },
          "metadata": {},
          "output_type": "display_data"
        }
      ],
      "source": [
        "display(df)"
      ]
    },
    {
      "cell_type": "markdown",
      "metadata": {
        "id": "LKdI2VRkWDVB"
      },
      "source": [
        "Renomeia o titulo das colunas para o português"
      ]
    },
    {
      "cell_type": "code",
      "execution_count": 7,
      "metadata": {
        "colab": {
          "base_uri": "https://localhost:8080/",
          "height": 300
        },
        "id": "g81wVo09QIbh",
        "outputId": "30ef2f85-2391-44eb-dca2-90457e317eba"
      },
      "outputs": [
        {
          "data": {
            "text/html": [
              "<div>\n",
              "<style scoped>\n",
              "    .dataframe tbody tr th:only-of-type {\n",
              "        vertical-align: middle;\n",
              "    }\n",
              "\n",
              "    .dataframe tbody tr th {\n",
              "        vertical-align: top;\n",
              "    }\n",
              "\n",
              "    .dataframe thead th {\n",
              "        text-align: right;\n",
              "    }\n",
              "</style>\n",
              "<table border=\"1\" class=\"dataframe\">\n",
              "  <thead>\n",
              "    <tr style=\"text-align: right;\">\n",
              "      <th></th>\n",
              "      <th>Relevancia</th>\n",
              "      <th>Horas_Trabalhadas</th>\n",
              "      <th>Fadiga_Mental</th>\n",
              "      <th>Burnout</th>\n",
              "    </tr>\n",
              "  </thead>\n",
              "  <tbody>\n",
              "    <tr>\n",
              "      <th>count</th>\n",
              "      <td>22750.000000</td>\n",
              "      <td>21369.000000</td>\n",
              "      <td>20633.000000</td>\n",
              "      <td>21626.000000</td>\n",
              "    </tr>\n",
              "    <tr>\n",
              "      <th>mean</th>\n",
              "      <td>2.178725</td>\n",
              "      <td>4.481398</td>\n",
              "      <td>5.728188</td>\n",
              "      <td>0.452005</td>\n",
              "    </tr>\n",
              "    <tr>\n",
              "      <th>std</th>\n",
              "      <td>1.135145</td>\n",
              "      <td>2.047211</td>\n",
              "      <td>1.920839</td>\n",
              "      <td>0.198226</td>\n",
              "    </tr>\n",
              "    <tr>\n",
              "      <th>min</th>\n",
              "      <td>0.000000</td>\n",
              "      <td>1.000000</td>\n",
              "      <td>0.000000</td>\n",
              "      <td>0.000000</td>\n",
              "    </tr>\n",
              "    <tr>\n",
              "      <th>25%</th>\n",
              "      <td>1.000000</td>\n",
              "      <td>3.000000</td>\n",
              "      <td>4.600000</td>\n",
              "      <td>0.310000</td>\n",
              "    </tr>\n",
              "    <tr>\n",
              "      <th>50%</th>\n",
              "      <td>2.000000</td>\n",
              "      <td>4.000000</td>\n",
              "      <td>5.900000</td>\n",
              "      <td>0.450000</td>\n",
              "    </tr>\n",
              "    <tr>\n",
              "      <th>75%</th>\n",
              "      <td>3.000000</td>\n",
              "      <td>6.000000</td>\n",
              "      <td>7.100000</td>\n",
              "      <td>0.590000</td>\n",
              "    </tr>\n",
              "    <tr>\n",
              "      <th>max</th>\n",
              "      <td>5.000000</td>\n",
              "      <td>10.000000</td>\n",
              "      <td>10.000000</td>\n",
              "      <td>1.000000</td>\n",
              "    </tr>\n",
              "  </tbody>\n",
              "</table>\n",
              "</div>"
            ],
            "text/plain": [
              "         Relevancia  Horas_Trabalhadas  Fadiga_Mental       Burnout\n",
              "count  22750.000000       21369.000000   20633.000000  21626.000000\n",
              "mean       2.178725           4.481398       5.728188      0.452005\n",
              "std        1.135145           2.047211       1.920839      0.198226\n",
              "min        0.000000           1.000000       0.000000      0.000000\n",
              "25%        1.000000           3.000000       4.600000      0.310000\n",
              "50%        2.000000           4.000000       5.900000      0.450000\n",
              "75%        3.000000           6.000000       7.100000      0.590000\n",
              "max        5.000000          10.000000      10.000000      1.000000"
            ]
          },
          "execution_count": 7,
          "metadata": {},
          "output_type": "execute_result"
        }
      ],
      "source": [
        "df.rename(columns={'Employee ID' : 'ID', 'Date of Joining': 'Admissao', 'Gender': 'Sexo', 'Company Type': 'Atuacao', 'WFH Setup Available': 'Home_Office','Designation': 'Relevancia', 'Resource Allocation': 'Horas_Trabalhadas', 'Mental Fatigue Score': 'Fadiga_Mental', 'Burn Rate':'Burnout'}, inplace=True)\n",
        "df.describe()"
      ]
    },
    {
      "cell_type": "code",
      "execution_count": 8,
      "metadata": {
        "colab": {
          "base_uri": "https://localhost:8080/"
        },
        "id": "diX7EO8QI-_Y",
        "outputId": "236d0323-0863-4548-e4c6-c909343305ee"
      },
      "outputs": [
        {
          "data": {
            "text/plain": [
              "(22750, 9)"
            ]
          },
          "execution_count": 8,
          "metadata": {},
          "output_type": "execute_result"
        }
      ],
      "source": [
        "df.shape"
      ]
    },
    {
      "cell_type": "markdown",
      "metadata": {
        "id": "0FiuDu8zy31B"
      },
      "source": [
        "# Atribuindo Mediana aos valores Nulos"
      ]
    },
    {
      "cell_type": "code",
      "execution_count": 9,
      "metadata": {
        "colab": {
          "base_uri": "https://localhost:8080/"
        },
        "id": "wlDdf7wf_qmm",
        "outputId": "1a6cd5c3-6942-4cd7-de57-c9880f9ab003"
      },
      "outputs": [
        {
          "data": {
            "text/plain": [
              "ID                      0\n",
              "Admissao                0\n",
              "Sexo                    0\n",
              "Atuacao                 0\n",
              "Home_Office             0\n",
              "Relevancia              0\n",
              "Horas_Trabalhadas    1381\n",
              "Fadiga_Mental        2117\n",
              "Burnout              1124\n",
              "dtype: int64"
            ]
          },
          "execution_count": 9,
          "metadata": {},
          "output_type": "execute_result"
        }
      ],
      "source": [
        "df.isnull().sum()"
      ]
    },
    {
      "cell_type": "code",
      "execution_count": 10,
      "metadata": {
        "id": "cxJv6GOwy5fX"
      },
      "outputs": [],
      "source": [
        "##Valores atribuidos aos campos nulos das horas trabalhadas\n",
        "#mediana_horasTrabalhadas = df['Horas Trabalhadas'].median()\n",
        "#mediana_horasTrabalhadas\n",
        "#horas = df[\"Horas Trabalhadas\"]\n",
        "#horas.fillna(mediana_horasTrabalhadas, inplace=True)"
      ]
    },
    {
      "cell_type": "code",
      "execution_count": 11,
      "metadata": {
        "id": "pxmQvMcoT5Q2"
      },
      "outputs": [],
      "source": [
        "##Valores atribuidos aos campos nulos das da fadiga mental\n",
        "#mediana_fadigaMental = df['Fadiga Mental'].median()\n",
        "#mediana_fadigaMental\n",
        "#fadigaMental = df[\"Fadiga Mental\"]\n",
        "#fadigaMental.fillna(mediana_fadigaMental, inplace= True)"
      ]
    },
    {
      "cell_type": "code",
      "execution_count": 12,
      "metadata": {
        "id": "ZWp4n9D2AR7r"
      },
      "outputs": [],
      "source": [
        "##Valores atribuidos aos campos nulos do Burn Rate\n",
        "##mediana_burnRate = df['Burn Rate'].median()\n",
        "##mediana_burnRate\n",
        "#burnRate = df[\"Burn Rate\"]\n",
        "#burnRate.fillna(mediana_burnRate, inplace=True)"
      ]
    },
    {
      "cell_type": "code",
      "execution_count": 13,
      "metadata": {
        "id": "X2txBFkxzXPl"
      },
      "outputs": [],
      "source": [
        "##Valores atribuidos aos campos nulos das horas trabalhadas(média)\n",
        "media_horasTrabalhadas = df['Horas_Trabalhadas'].mean()\n",
        "media_horasTrabalhadas\n",
        "horas = df[\"Horas_Trabalhadas\"]\n",
        "##horas.fillna(media_horasTrabalhadas, inplace=True)\n",
        "horas.fillna(4.0, inplace=True)"
      ]
    },
    {
      "cell_type": "code",
      "execution_count": 14,
      "metadata": {
        "id": "bp3lCY3EzuDQ"
      },
      "outputs": [],
      "source": [
        "##Valores atribuidos aos campos nulos das da fadiga mental (média)\n",
        "media_fadigaMental = df['Fadiga_Mental'].mean()\n",
        "media_fadigaMental\n",
        "fadigaMental = df[\"Fadiga_Mental\"]\n",
        "fadigaMental.fillna(media_fadigaMental, inplace= True)"
      ]
    },
    {
      "cell_type": "code",
      "execution_count": 15,
      "metadata": {
        "id": "9wbqxjOqz1BL"
      },
      "outputs": [],
      "source": [
        "#Valores atribuidos aos campos nulos do Burn Rate\n",
        "media_burnRate = df['Burnout'].mean()\n",
        "media_burnRate\n",
        "burnRate = df[\"Burnout\"]\n",
        "burnRate.fillna(media_burnRate, inplace=True)"
      ]
    },
    {
      "cell_type": "code",
      "execution_count": 16,
      "metadata": {
        "colab": {
          "base_uri": "https://localhost:8080/"
        },
        "id": "yAlYOQeLLjT9",
        "outputId": "7e67044c-4bae-47d7-8215-b3d1f5efa0b0"
      },
      "outputs": [
        {
          "data": {
            "text/plain": [
              "ID                   0\n",
              "Admissao             0\n",
              "Sexo                 0\n",
              "Atuacao              0\n",
              "Home_Office          0\n",
              "Relevancia           0\n",
              "Horas_Trabalhadas    0\n",
              "Fadiga_Mental        0\n",
              "Burnout              0\n",
              "dtype: int64"
            ]
          },
          "execution_count": 16,
          "metadata": {},
          "output_type": "execute_result"
        }
      ],
      "source": [
        "df.isnull().sum()"
      ]
    },
    {
      "cell_type": "markdown",
      "metadata": {
        "id": "sNasRQO1XWCg"
      },
      "source": [
        "###Não há valores duplicados"
      ]
    },
    {
      "cell_type": "code",
      "execution_count": 17,
      "metadata": {
        "colab": {
          "base_uri": "https://localhost:8080/",
          "height": 49
        },
        "id": "iFv36jzdWrUB",
        "outputId": "5f41a7e2-c8e2-4a98-a85c-14bbb27189e5"
      },
      "outputs": [
        {
          "data": {
            "text/html": [
              "<div>\n",
              "<style scoped>\n",
              "    .dataframe tbody tr th:only-of-type {\n",
              "        vertical-align: middle;\n",
              "    }\n",
              "\n",
              "    .dataframe tbody tr th {\n",
              "        vertical-align: top;\n",
              "    }\n",
              "\n",
              "    .dataframe thead th {\n",
              "        text-align: right;\n",
              "    }\n",
              "</style>\n",
              "<table border=\"1\" class=\"dataframe\">\n",
              "  <thead>\n",
              "    <tr style=\"text-align: right;\">\n",
              "      <th></th>\n",
              "      <th>ID</th>\n",
              "      <th>Admissao</th>\n",
              "      <th>Sexo</th>\n",
              "      <th>Atuacao</th>\n",
              "      <th>Home_Office</th>\n",
              "      <th>Relevancia</th>\n",
              "      <th>Horas_Trabalhadas</th>\n",
              "      <th>Fadiga_Mental</th>\n",
              "      <th>Burnout</th>\n",
              "    </tr>\n",
              "  </thead>\n",
              "  <tbody>\n",
              "  </tbody>\n",
              "</table>\n",
              "</div>"
            ],
            "text/plain": [
              "Empty DataFrame\n",
              "Columns: [ID, Admissao, Sexo, Atuacao, Home_Office, Relevancia, Horas_Trabalhadas, Fadiga_Mental, Burnout]\n",
              "Index: []"
            ]
          },
          "execution_count": 17,
          "metadata": {},
          "output_type": "execute_result"
        }
      ],
      "source": [
        "duplicados = df[df.duplicated()]\n",
        "duplicados"
      ]
    },
    {
      "cell_type": "markdown",
      "metadata": {
        "id": "OH2R9D4M-cI6"
      },
      "source": [
        "# **Estatisticas das váriaveis**"
      ]
    },
    {
      "cell_type": "code",
      "execution_count": 18,
      "metadata": {
        "colab": {
          "base_uri": "https://localhost:8080/",
          "height": 338
        },
        "id": "tG2YtJik2JeX",
        "outputId": "b3671e27-d5b1-4574-b3e0-acd335d1d8d0"
      },
      "outputs": [
        {
          "data": {
            "text/plain": [
              "Text(0.5, 1.0, 'Quantidade de Pessoas de acordo com o Sexo')"
            ]
          },
          "execution_count": 18,
          "metadata": {},
          "output_type": "execute_result"
        },
        {
          "data": {
            "image/png": "[encoded data removed]",
            "text/plain": [
              "<Figure size 640x480 with 1 Axes>"
            ]
          },
          "metadata": {},
          "output_type": "display_data"
        }
      ],
      "source": [
        "## Números de pessoas de acordo com o Sexo\n",
        "agrupado_sexo = df.groupby('Sexo').size().reset_index(name='qtd')\n",
        "agrupado_sexo.plot(kind='bar', x='Sexo', y='qtd')\n",
        "plt.title('Quantidade de Pessoas de acordo com o Sexo')"
      ]
    },
    {
      "cell_type": "code",
      "execution_count": 19,
      "metadata": {
        "colab": {
          "base_uri": "https://localhost:8080/",
          "height": 319
        },
        "id": "eat1EB-V0O4q",
        "outputId": "3c52325f-c72b-4738-d0ce-2c7cab0937c6"
      },
      "outputs": [
        {
          "data": {
            "text/plain": [
              "Text(0.5, 1.0, 'Quantidade de Pessoas de acordo com a Home Office')"
            ]
          },
          "execution_count": 19,
          "metadata": {},
          "output_type": "execute_result"
        },
        {
          "data": {
            "image/png": "[encoded data removed]",
            "text/plain": [
              "<Figure size 640x480 with 1 Axes>"
            ]
          },
          "metadata": {},
          "output_type": "display_data"
        }
      ],
      "source": [
        "##Número de pesoas que trabalham ou não em Home Office\n",
        "agrupado_home = df.groupby('Home_Office').size().reset_index(name='qtd')\n",
        "agrupado_home.plot(kind='bar', x='Home_Office', y='qtd')\n",
        "plt.title('Quantidade de Pessoas de acordo com a Home Office')"
      ]
    },
    {
      "cell_type": "code",
      "execution_count": 20,
      "metadata": {
        "colab": {
          "base_uri": "https://localhost:8080/",
          "height": 340
        },
        "id": "P0jSBB0aUkDs",
        "outputId": "6700ad22-4e09-4277-965b-de72420f1fc3"
      },
      "outputs": [
        {
          "data": {
            "text/plain": [
              "Text(0.5, 1.0, 'Quantidade de Pessoas de acordo com a Atuacao')"
            ]
          },
          "execution_count": 20,
          "metadata": {},
          "output_type": "execute_result"
        },
        {
          "data": {
            "image/png": "[encoded data removed]",
            "text/plain": [
              "<Figure size 640x480 with 1 Axes>"
            ]
          },
          "metadata": {},
          "output_type": "display_data"
        }
      ],
      "source": [
        "##Quantidade de Pessoas de acordo com a Atuação\n",
        "agrupado_atuacao = df.groupby('Atuacao').size().reset_index(name='qtd')\n",
        "agrupado_atuacao.plot(kind='bar', x='Atuacao', y='qtd')\n",
        "plt.title('Quantidade de Pessoas de acordo com a Atuacao')"
      ]
    },
    {
      "cell_type": "code",
      "execution_count": 21,
      "metadata": {
        "colab": {
          "base_uri": "https://localhost:8080/",
          "height": 318
        },
        "id": "xsjn57zWUDU-",
        "outputId": "da95d75c-53d3-4135-ee93-0eefdeb3def9"
      },
      "outputs": [
        {
          "data": {
            "text/plain": [
              "Text(0.5, 1.0, 'Quantidade de Pessoas de acordo com a Relevancia')"
            ]
          },
          "execution_count": 21,
          "metadata": {},
          "output_type": "execute_result"
        },
        {
          "data": {
            "image/png": "[encoded data removed]",
            "text/plain": [
              "<Figure size 640x480 with 1 Axes>"
            ]
          },
          "metadata": {},
          "output_type": "display_data"
        }
      ],
      "source": [
        "agrupado_relevancia = df.groupby('Relevancia').size().reset_index(name='qtd')\n",
        "agrupado_relevancia.plot(kind='bar', x='Relevancia', y='qtd')\n",
        "plt.title('Quantidade de Pessoas de acordo com a Relevancia')"
      ]
    },
    {
      "cell_type": "code",
      "execution_count": 22,
      "metadata": {
        "colab": {
          "base_uri": "https://localhost:8080/",
          "height": 325
        },
        "id": "qtVmLYmXAjMC",
        "outputId": "9fb3636b-a7c4-4b18-fa73-f1a186627452"
      },
      "outputs": [
        {
          "data": {
            "text/plain": [
              "Text(0.5, 1.0, 'Quantidade de Pessoas de acordo com as horas trabalhadas')"
            ]
          },
          "execution_count": 22,
          "metadata": {},
          "output_type": "execute_result"
        },
        {
          "data": {
            "image/png": "[encoded data removed]",
            "text/plain": [
              "<Figure size 640x480 with 1 Axes>"
            ]
          },
          "metadata": {},
          "output_type": "display_data"
        }
      ],
      "source": [
        "agrupado_horastrabalhadas = df.groupby('Horas_Trabalhadas').size().reset_index(name='qtd')\n",
        "agrupado_horastrabalhadas.plot(kind='bar', x='Horas_Trabalhadas', y='qtd')\n",
        "plt.title('Quantidade de Pessoas de acordo com as horas trabalhadas')"
      ]
    },
    {
      "cell_type": "code",
      "execution_count": 23,
      "metadata": {
        "colab": {
          "base_uri": "https://localhost:8080/",
          "height": 408
        },
        "id": "D4AXJi0dBCwi",
        "outputId": "e2a8a19e-0939-431f-daf1-d801bcdda326"
      },
      "outputs": [
        {
          "data": {
            "text/plain": [
              "Text(0.5, 1.0, 'Quantidade de Pessoas de acordo com a Fadiga Mental')"
            ]
          },
          "execution_count": 23,
          "metadata": {},
          "output_type": "execute_result"
        },
        {
          "data": {
            "image/png": "[encoded data removed]",
            "text/plain": [
              "<Figure size 640x480 with 1 Axes>"
            ]
          },
          "metadata": {},
          "output_type": "display_data"
        }
      ],
      "source": [
        "agrupado_fadigaMental = df.groupby('Fadiga_Mental').size().reset_index(name='qtd')\n",
        "agrupado_fadigaMental.plot(kind='bar', x='Fadiga_Mental', y='qtd')\n",
        "plt.title('Quantidade de Pessoas de acordo com a Fadiga Mental')"
      ]
    },
    {
      "cell_type": "code",
      "execution_count": 24,
      "metadata": {
        "colab": {
          "base_uri": "https://localhost:8080/",
          "height": 400
        },
        "id": "5NsYE8IXBrCr",
        "outputId": "9db8ffb0-1ce9-4eb9-a24c-f0762cca0bb2"
      },
      "outputs": [
        {
          "data": {
            "text/plain": [
              "Text(0.5, 1.0, 'Quantidade de Pessoas de acordo com a Burn Rate')"
            ]
          },
          "execution_count": 24,
          "metadata": {},
          "output_type": "execute_result"
        },
        {
          "data": {
            "image/png": "[encoded data removed]",
            "text/plain": [
              "<Figure size 640x480 with 1 Axes>"
            ]
          },
          "metadata": {},
          "output_type": "display_data"
        }
      ],
      "source": [
        "##Quantidade de Pessoas de acordo com a Burn Rate\n",
        "agrupado_burnRate = df.groupby('Burnout').size().reset_index(name='qtd')\n",
        "agrupado_burnRate.plot(kind='bar', x='Burnout', y='qtd')\n",
        "plt.title('Quantidade de Pessoas de acordo com a Burn Rate')"
      ]
    },
    {
      "cell_type": "markdown",
      "metadata": {
        "id": "DKaVHKXGDDNO"
      },
      "source": [
        "##BoxPlot's"
      ]
    },
    {
      "cell_type": "code",
      "execution_count": 25,
      "metadata": {
        "id": "YYznKxQhCrPi"
      },
      "outputs": [],
      "source": [
        "##Não há Outliers\n",
        "#sns.boxplot(df['Horas Trabalhadas'])"
      ]
    },
    {
      "cell_type": "code",
      "execution_count": 26,
      "metadata": {
        "id": "5O8R8SuADXgh"
      },
      "outputs": [],
      "source": [
        "#sns.boxplot(df['Fadiga Mental'])"
      ]
    },
    {
      "cell_type": "code",
      "execution_count": 27,
      "metadata": {
        "id": "cPttJrcIEdLe"
      },
      "outputs": [],
      "source": [
        "#df[\"Outlier\"] = np.where(df[\"Fadiga Mental\"] < 2 , True, False)\n",
        "##df.loc[df[\"Outlier\"] == True, \"Fadiga Mental\"] = mediana_fadigaMental\n",
        "#df.loc[df[\"Outlier\"] == True, \"Fadiga Mental\"] = media_fadigaMental"
      ]
    },
    {
      "cell_type": "code",
      "execution_count": 28,
      "metadata": {
        "id": "8Ox-7Ou6Deyo"
      },
      "outputs": [],
      "source": [
        "#sns.boxplot(df['Burn Rate'])"
      ]
    },
    {
      "cell_type": "code",
      "execution_count": 29,
      "metadata": {
        "id": "xyarcH3hJ5hS"
      },
      "outputs": [],
      "source": [
        "#df.drop(columns='Outlier', axis=1, inplace=False)\n"
      ]
    },
    {
      "cell_type": "code",
      "execution_count": 30,
      "metadata": {
        "id": "7Yq-lOSLGd2i"
      },
      "outputs": [],
      "source": [
        "#df[\"Outlier\"] = np.where(df[\"Burn Rate\"] > 0.9, True, False)\n",
        "##df.loc[df[\"Outlier\"] == True, \"Burn Rate\"] = mediana_burnRate\n",
        "##df.loc[df[\"Outlier\"] == True, \"Burn Rate\"] = media_burnRate"
      ]
    },
    {
      "cell_type": "code",
      "execution_count": 31,
      "metadata": {
        "id": "x6F_njfLWhfr"
      },
      "outputs": [],
      "source": [
        "#df.drop(columns='Outlier', axis=1, inplace=True)"
      ]
    },
    {
      "cell_type": "markdown",
      "metadata": {
        "id": "M4VOWhSK--Ry"
      },
      "source": [
        "# **-----------------------------------------**"
      ]
    },
    {
      "cell_type": "markdown",
      "metadata": {
        "id": "lpKBLNcfnD_u"
      },
      "source": [
        "# **Pré-Processamento de Dados**"
      ]
    },
    {
      "cell_type": "markdown",
      "metadata": {
        "id": "alstl5y_qQw5"
      },
      "source": [
        "### LabelEncoder - Variáveis não numéricas"
      ]
    },
    {
      "cell_type": "markdown",
      "metadata": {
        "id": "ma6Ua3afnL5E"
      },
      "source": [
        "Transformando a Admissão em um objeto DateTime"
      ]
    },
    {
      "cell_type": "code",
      "execution_count": 32,
      "metadata": {
        "id": "4lfClAMSmjTw"
      },
      "outputs": [],
      "source": [
        "df['Data'] = pd.to_datetime(df['Admissao'], format='%Y/%m/%d')\n"
      ]
    },
    {
      "cell_type": "code",
      "execution_count": 33,
      "metadata": {
        "id": "khxAVhqngPaf"
      },
      "outputs": [],
      "source": [
        "df['Dias'] = (datetime.today() - df['Data']).dt.days"
      ]
    },
    {
      "cell_type": "code",
      "execution_count": 34,
      "metadata": {
        "colab": {
          "base_uri": "https://localhost:8080/",
          "height": 424
        },
        "id": "a4KvinQyodZe",
        "outputId": "983ff0f8-bf5c-4d44-cf15-55934df57252"
      },
      "outputs": [
        {
          "data": {
            "text/html": [
              "<div>\n",
              "<style scoped>\n",
              "    .dataframe tbody tr th:only-of-type {\n",
              "        vertical-align: middle;\n",
              "    }\n",
              "\n",
              "    .dataframe tbody tr th {\n",
              "        vertical-align: top;\n",
              "    }\n",
              "\n",
              "    .dataframe thead th {\n",
              "        text-align: right;\n",
              "    }\n",
              "</style>\n",
              "<table border=\"1\" class=\"dataframe\">\n",
              "  <thead>\n",
              "    <tr style=\"text-align: right;\">\n",
              "      <th></th>\n",
              "      <th>ID</th>\n",
              "      <th>Admissao</th>\n",
              "      <th>Sexo</th>\n",
              "      <th>Atuacao</th>\n",
              "      <th>Home_Office</th>\n",
              "      <th>Relevancia</th>\n",
              "      <th>Horas_Trabalhadas</th>\n",
              "      <th>Fadiga_Mental</th>\n",
              "      <th>Burnout</th>\n",
              "      <th>Data</th>\n",
              "      <th>Dias</th>\n",
              "    </tr>\n",
              "  </thead>\n",
              "  <tbody>\n",
              "    <tr>\n",
              "      <th>0</th>\n",
              "      <td>fffe32003000360033003200</td>\n",
              "      <td>2008-09-30</td>\n",
              "      <td>Female</td>\n",
              "      <td>Service</td>\n",
              "      <td>No</td>\n",
              "      <td>2.0</td>\n",
              "      <td>3.0</td>\n",
              "      <td>3.800000</td>\n",
              "      <td>0.16</td>\n",
              "      <td>2008-09-30</td>\n",
              "      <td>5285</td>\n",
              "    </tr>\n",
              "    <tr>\n",
              "      <th>1</th>\n",
              "      <td>fffe3700360033003500</td>\n",
              "      <td>2008-11-30</td>\n",
              "      <td>Male</td>\n",
              "      <td>Service</td>\n",
              "      <td>Yes</td>\n",
              "      <td>1.0</td>\n",
              "      <td>2.0</td>\n",
              "      <td>5.000000</td>\n",
              "      <td>0.36</td>\n",
              "      <td>2008-11-30</td>\n",
              "      <td>5224</td>\n",
              "    </tr>\n",
              "    <tr>\n",
              "      <th>2</th>\n",
              "      <td>fffe31003300320037003900</td>\n",
              "      <td>2008-03-10</td>\n",
              "      <td>Female</td>\n",
              "      <td>Product</td>\n",
              "      <td>Yes</td>\n",
              "      <td>2.0</td>\n",
              "      <td>4.0</td>\n",
              "      <td>5.800000</td>\n",
              "      <td>0.49</td>\n",
              "      <td>2008-03-10</td>\n",
              "      <td>5489</td>\n",
              "    </tr>\n",
              "    <tr>\n",
              "      <th>3</th>\n",
              "      <td>fffe32003400380032003900</td>\n",
              "      <td>2008-11-03</td>\n",
              "      <td>Male</td>\n",
              "      <td>Service</td>\n",
              "      <td>Yes</td>\n",
              "      <td>1.0</td>\n",
              "      <td>1.0</td>\n",
              "      <td>2.600000</td>\n",
              "      <td>0.20</td>\n",
              "      <td>2008-11-03</td>\n",
              "      <td>5251</td>\n",
              "    </tr>\n",
              "    <tr>\n",
              "      <th>4</th>\n",
              "      <td>fffe31003900340031003600</td>\n",
              "      <td>2008-07-24</td>\n",
              "      <td>Female</td>\n",
              "      <td>Service</td>\n",
              "      <td>No</td>\n",
              "      <td>3.0</td>\n",
              "      <td>7.0</td>\n",
              "      <td>6.900000</td>\n",
              "      <td>0.52</td>\n",
              "      <td>2008-07-24</td>\n",
              "      <td>5353</td>\n",
              "    </tr>\n",
              "    <tr>\n",
              "      <th>...</th>\n",
              "      <td>...</td>\n",
              "      <td>...</td>\n",
              "      <td>...</td>\n",
              "      <td>...</td>\n",
              "      <td>...</td>\n",
              "      <td>...</td>\n",
              "      <td>...</td>\n",
              "      <td>...</td>\n",
              "      <td>...</td>\n",
              "      <td>...</td>\n",
              "      <td>...</td>\n",
              "    </tr>\n",
              "    <tr>\n",
              "      <th>22745</th>\n",
              "      <td>fffe31003500370039003100</td>\n",
              "      <td>2008-12-30</td>\n",
              "      <td>Female</td>\n",
              "      <td>Service</td>\n",
              "      <td>No</td>\n",
              "      <td>1.0</td>\n",
              "      <td>3.0</td>\n",
              "      <td>5.728188</td>\n",
              "      <td>0.41</td>\n",
              "      <td>2008-12-30</td>\n",
              "      <td>5194</td>\n",
              "    </tr>\n",
              "    <tr>\n",
              "      <th>22746</th>\n",
              "      <td>fffe33003000350031003800</td>\n",
              "      <td>2008-01-19</td>\n",
              "      <td>Female</td>\n",
              "      <td>Product</td>\n",
              "      <td>Yes</td>\n",
              "      <td>3.0</td>\n",
              "      <td>6.0</td>\n",
              "      <td>6.700000</td>\n",
              "      <td>0.59</td>\n",
              "      <td>2008-01-19</td>\n",
              "      <td>5540</td>\n",
              "    </tr>\n",
              "    <tr>\n",
              "      <th>22747</th>\n",
              "      <td>fffe390032003000</td>\n",
              "      <td>2008-11-05</td>\n",
              "      <td>Male</td>\n",
              "      <td>Service</td>\n",
              "      <td>Yes</td>\n",
              "      <td>3.0</td>\n",
              "      <td>7.0</td>\n",
              "      <td>5.728188</td>\n",
              "      <td>0.72</td>\n",
              "      <td>2008-11-05</td>\n",
              "      <td>5249</td>\n",
              "    </tr>\n",
              "    <tr>\n",
              "      <th>22748</th>\n",
              "      <td>fffe33003300320036003900</td>\n",
              "      <td>2008-01-10</td>\n",
              "      <td>Female</td>\n",
              "      <td>Service</td>\n",
              "      <td>No</td>\n",
              "      <td>2.0</td>\n",
              "      <td>5.0</td>\n",
              "      <td>5.900000</td>\n",
              "      <td>0.52</td>\n",
              "      <td>2008-01-10</td>\n",
              "      <td>5549</td>\n",
              "    </tr>\n",
              "    <tr>\n",
              "      <th>22749</th>\n",
              "      <td>fffe3400350031003800</td>\n",
              "      <td>2008-01-06</td>\n",
              "      <td>Male</td>\n",
              "      <td>Product</td>\n",
              "      <td>No</td>\n",
              "      <td>3.0</td>\n",
              "      <td>6.0</td>\n",
              "      <td>7.800000</td>\n",
              "      <td>0.61</td>\n",
              "      <td>2008-01-06</td>\n",
              "      <td>5553</td>\n",
              "    </tr>\n",
              "  </tbody>\n",
              "</table>\n",
              "<p>22750 rows × 11 columns</p>\n",
              "</div>"
            ],
            "text/plain": [
              "                             ID    Admissao    Sexo  Atuacao Home_Office  \\\n",
              "0      fffe32003000360033003200  2008-09-30  Female  Service          No   \n",
              "1          fffe3700360033003500  2008-11-30    Male  Service         Yes   \n",
              "2      fffe31003300320037003900  2008-03-10  Female  Product         Yes   \n",
              "3      fffe32003400380032003900  2008-11-03    Male  Service         Yes   \n",
              "4      fffe31003900340031003600  2008-07-24  Female  Service          No   \n",
              "...                         ...         ...     ...      ...         ...   \n",
              "22745  fffe31003500370039003100  2008-12-30  Female  Service          No   \n",
              "22746  fffe33003000350031003800  2008-01-19  Female  Product         Yes   \n",
              "22747          fffe390032003000  2008-11-05    Male  Service         Yes   \n",
              "22748  fffe33003300320036003900  2008-01-10  Female  Service          No   \n",
              "22749      fffe3400350031003800  2008-01-06    Male  Product          No   \n",
              "\n",
              "       Relevancia  Horas_Trabalhadas  Fadiga_Mental  Burnout       Data  Dias  \n",
              "0             2.0                3.0       3.800000     0.16 2008-09-30  5285  \n",
              "1             1.0                2.0       5.000000     0.36 2008-11-30  5224  \n",
              "2             2.0                4.0       5.800000     0.49 2008-03-10  5489  \n",
              "3             1.0                1.0       2.600000     0.20 2008-11-03  5251  \n",
              "4             3.0                7.0       6.900000     0.52 2008-07-24  5353  \n",
              "...           ...                ...            ...      ...        ...   ...  \n",
              "22745         1.0                3.0       5.728188     0.41 2008-12-30  5194  \n",
              "22746         3.0                6.0       6.700000     0.59 2008-01-19  5540  \n",
              "22747         3.0                7.0       5.728188     0.72 2008-11-05  5249  \n",
              "22748         2.0                5.0       5.900000     0.52 2008-01-10  5549  \n",
              "22749         3.0                6.0       7.800000     0.61 2008-01-06  5553  \n",
              "\n",
              "[22750 rows x 11 columns]"
            ]
          },
          "execution_count": 34,
          "metadata": {},
          "output_type": "execute_result"
        }
      ],
      "source": [
        "df"
      ]
    },
    {
      "cell_type": "markdown",
      "metadata": {
        "id": "bI37PVlcWcDY"
      },
      "source": [
        "Trabalha em Home Office?\n",
        "\n",
        "*   Sim: 1\n",
        "*   Não: 0\n",
        "\n"
      ]
    },
    {
      "cell_type": "code",
      "execution_count": 35,
      "metadata": {
        "id": "EBjNHKg8TbQu"
      },
      "outputs": [],
      "source": [
        "df['Home_Office'].replace({\"Yes\": 1, \"No\": 0}, inplace=True)"
      ]
    },
    {
      "cell_type": "markdown",
      "metadata": {
        "id": "RrnGXX3iWmUc"
      },
      "source": [
        "Área de Atuação da Empresa:\n",
        "\n",
        "*   Produtos: 0\n",
        "*   Serviços: 1\n",
        "\n"
      ]
    },
    {
      "cell_type": "code",
      "execution_count": 36,
      "metadata": {
        "id": "k8IZ_F7wlpte"
      },
      "outputs": [],
      "source": [
        "df['Atuacao'].replace({\"Service\": 1, \"Product\": 0}, inplace=True)"
      ]
    },
    {
      "cell_type": "code",
      "execution_count": 37,
      "metadata": {
        "colab": {
          "base_uri": "https://localhost:8080/",
          "height": 520
        },
        "id": "WhZEMzfRWrkL",
        "outputId": "3e497822-30f4-4145-b378-fd42c4793b08"
      },
      "outputs": [
        {
          "name": "stderr",
          "output_type": "stream",
          "text": [
            "C:\\Users\\GIDEONE\\AppData\\Local\\Temp\\ipykernel_8120\\3759155405.py:2: UserWarning: \n",
            "\n",
            "`distplot` is a deprecated function and will be removed in seaborn v0.14.0.\n",
            "\n",
            "Please adapt your code to use either `displot` (a figure-level function with\n",
            "similar flexibility) or `histplot` (an axes-level function for histograms).\n",
            "\n",
            "For a guide to updating your code to use the new functions, please see\n",
            "https://gist.github.com/mwaskom/de44147ed2974457ad6372750bbe5751\n",
            "\n",
            "  sns.distplot(df['Atuacao']).set_title(\"Indice de Pessoas por Atuação\")\n"
          ]
        },
        {
          "data": {
            "image/png": "[encoded data removed]",
            "text/plain": [
              "<Figure size 700x300 with 1 Axes>"
            ]
          },
          "metadata": {},
          "output_type": "display_data"
        }
      ],
      "source": [
        "plt.figure(figsize=(7,3), dpi=100)\n",
        "sns.distplot(df['Atuacao']).set_title(\"Indice de Pessoas por Atuação\")\n",
        "plt.show()"
      ]
    },
    {
      "cell_type": "markdown",
      "metadata": {
        "id": "2k47aACbWKT1"
      },
      "source": [
        "*   Feminino: 0\n",
        "*   Masculino: 1\n",
        "\n"
      ]
    },
    {
      "cell_type": "code",
      "execution_count": 38,
      "metadata": {
        "id": "vFpaBmeIRhJp"
      },
      "outputs": [],
      "source": [
        "df['Sexo'].replace({\"Female\": 0, \"Male\": 1}, inplace=True)"
      ]
    },
    {
      "cell_type": "code",
      "execution_count": 39,
      "metadata": {
        "colab": {
          "base_uri": "https://localhost:8080/"
        },
        "id": "xUf4pZ2rQnYi",
        "outputId": "00cf3658-ba8a-4be5-d7d9-0a0f9e4c1f67"
      },
      "outputs": [
        {
          "name": "stdout",
          "output_type": "stream",
          "text": [
            "###############Fadiga_Mental##################\n",
            "\n",
            "Sexo                 0.138735\n",
            "Atuacao              0.002532\n",
            "Home_Office         -0.263429\n",
            "Relevancia           0.656445\n",
            "Horas_Trabalhadas    0.738250\n",
            "Fadiga_Mental        1.000000\n",
            "Burnout              0.878217\n",
            "Dias                -0.002301\n",
            "Name: Fadiga_Mental, dtype: float64\n",
            "###############Relevancia##################\n",
            "\n",
            "Sexo                 0.113295\n",
            "Atuacao              0.006095\n",
            "Home_Office         -0.229720\n",
            "Relevancia           1.000000\n",
            "Horas_Trabalhadas    0.850656\n",
            "Fadiga_Mental        0.656445\n",
            "Burnout              0.719284\n",
            "Dias                 0.000930\n",
            "Name: Relevancia, dtype: float64\n",
            "###############Horas_Trabalhadas##################\n",
            "\n",
            "Sexo                 0.138321\n",
            "Atuacao              0.006263\n",
            "Home_Office         -0.275692\n",
            "Relevancia           0.850656\n",
            "Horas_Trabalhadas    1.000000\n",
            "Fadiga_Mental        0.738250\n",
            "Burnout              0.809925\n",
            "Dias                 0.000612\n",
            "Name: Horas_Trabalhadas, dtype: float64\n"
          ]
        },
        {
          "name": "stderr",
          "output_type": "stream",
          "text": [
            "C:\\Users\\GIDEONE\\AppData\\Local\\Temp\\ipykernel_8120\\1086729883.py:2: FutureWarning: The default value of numeric_only in DataFrame.corr is deprecated. In a future version, it will default to False. Select only valid columns or specify the value of numeric_only to silence this warning.\n",
            "  print(df.corr()['Fadiga_Mental'])\n",
            "C:\\Users\\GIDEONE\\AppData\\Local\\Temp\\ipykernel_8120\\1086729883.py:4: FutureWarning: The default value of numeric_only in DataFrame.corr is deprecated. In a future version, it will default to False. Select only valid columns or specify the value of numeric_only to silence this warning.\n",
            "  print(df.corr()['Relevancia'])\n",
            "C:\\Users\\GIDEONE\\AppData\\Local\\Temp\\ipykernel_8120\\1086729883.py:6: FutureWarning: The default value of numeric_only in DataFrame.corr is deprecated. In a future version, it will default to False. Select only valid columns or specify the value of numeric_only to silence this warning.\n",
            "  print(df.corr()['Horas_Trabalhadas'])\n"
          ]
        }
      ],
      "source": [
        "print(\"###############Fadiga_Mental##################\\n\")\n",
        "print(df.corr()['Fadiga_Mental'])\n",
        "print(\"###############Relevancia##################\\n\")\n",
        "print(df.corr()['Relevancia'])\n",
        "print(\"###############Horas_Trabalhadas##################\\n\")\n",
        "print(df.corr()['Horas_Trabalhadas'])"
      ]
    },
    {
      "cell_type": "code",
      "execution_count": 40,
      "metadata": {
        "colab": {
          "base_uri": "https://localhost:8080/",
          "height": 309
        },
        "id": "L9KDQKGTjSHa",
        "outputId": "7ebad971-80c3-42a5-e1b8-fdf2a075e51c"
      },
      "outputs": [
        {
          "data": {
            "text/plain": [
              "Text(0.5, 1.0, 'Relação entre Sexo e Fadiga Mental')"
            ]
          },
          "execution_count": 40,
          "metadata": {},
          "output_type": "execute_result"
        },
        {
          "data": {
            "image/png": "[encoded data removed]",
            "text/plain": [
              "<Figure size 640x480 with 1 Axes>"
            ]
          },
          "metadata": {},
          "output_type": "display_data"
        }
      ],
      "source": [
        "rel_sexo_fadiga = df.drop(columns=['ID','Atuacao', 'Home_Office', 'Relevancia', 'Horas_Trabalhadas'], inplace=False)\n",
        "sexo_agrupado = rel_sexo_fadiga.groupby('Sexo')\n",
        "media_fadiga_sexo = sexo_agrupado['Burnout'].mean()\n",
        "media_fadiga_sexo.plot(kind='bar', x='sexo', y='Burnout')\n",
        "plt.title('Relação entre Sexo e Fadiga Mental')"
      ]
    },
    {
      "cell_type": "code",
      "execution_count": 41,
      "metadata": {
        "colab": {
          "base_uri": "https://localhost:8080/",
          "height": 325
        },
        "id": "awVZmf7Mu81h",
        "outputId": "4838ae88-1eb5-4d52-d144-aeac63a8ca4b"
      },
      "outputs": [
        {
          "data": {
            "text/plain": [
              "Text(0.5, 1.0, 'Relação entre Horas Trabalhadas e o Burn Rate')"
            ]
          },
          "execution_count": 41,
          "metadata": {},
          "output_type": "execute_result"
        },
        {
          "data": {
            "image/png": "[encoded data removed]",
            "text/plain": [
              "<Figure size 640x480 with 1 Axes>"
            ]
          },
          "metadata": {},
          "output_type": "display_data"
        }
      ],
      "source": [
        "rel_horas_fadiga = df.drop(columns=['ID','Atuacao', 'Home_Office', 'Relevancia', 'Sexo'], inplace=False)\n",
        "horas_agrupado = rel_horas_fadiga.groupby('Horas_Trabalhadas')\n",
        "media_fadiga_horas = horas_agrupado['Burnout'].mean()\n",
        "media_fadiga_horas.plot(kind='bar', x='Horas_Trabalhadas', y='Burnout')\n",
        "plt.title('Relação entre Horas Trabalhadas e o Burn Rate')"
      ]
    },
    {
      "cell_type": "markdown",
      "metadata": {
        "id": "cjYwAzh2rT7P"
      },
      "source": [
        "### Eliminando Variáveis que não são explicativas para a previsão"
      ]
    },
    {
      "cell_type": "code",
      "execution_count": 42,
      "metadata": {
        "id": "PdOUxvGAUyBA"
      },
      "outputs": [],
      "source": [
        "df.drop(columns='ID', axis=1, inplace=True)\n",
        "df.drop(columns='Admissao', axis=1, inplace=True)\n",
        "df.drop(columns='Data', axis=1, inplace=True)\n",
        "df.drop(columns='Horas_Trabalhadas', axis=1, inplace=True)\n",
        "df.drop(columns='Relevancia', axis=1, inplace=True)"
      ]
    },
    {
      "cell_type": "code",
      "execution_count": 43,
      "metadata": {
        "colab": {
          "base_uri": "https://localhost:8080/",
          "height": 424
        },
        "id": "OCbn07y9irP3",
        "outputId": "0b1fcb4e-f78c-44bc-8121-93b688f5e776"
      },
      "outputs": [
        {
          "data": {
            "text/html": [
              "<div>\n",
              "<style scoped>\n",
              "    .dataframe tbody tr th:only-of-type {\n",
              "        vertical-align: middle;\n",
              "    }\n",
              "\n",
              "    .dataframe tbody tr th {\n",
              "        vertical-align: top;\n",
              "    }\n",
              "\n",
              "    .dataframe thead th {\n",
              "        text-align: right;\n",
              "    }\n",
              "</style>\n",
              "<table border=\"1\" class=\"dataframe\">\n",
              "  <thead>\n",
              "    <tr style=\"text-align: right;\">\n",
              "      <th></th>\n",
              "      <th>Sexo</th>\n",
              "      <th>Atuacao</th>\n",
              "      <th>Home_Office</th>\n",
              "      <th>Fadiga_Mental</th>\n",
              "      <th>Burnout</th>\n",
              "      <th>Dias</th>\n",
              "    </tr>\n",
              "  </thead>\n",
              "  <tbody>\n",
              "    <tr>\n",
              "      <th>0</th>\n",
              "      <td>0</td>\n",
              "      <td>1</td>\n",
              "      <td>0</td>\n",
              "      <td>3.800000</td>\n",
              "      <td>0.16</td>\n",
              "      <td>5285</td>\n",
              "    </tr>\n",
              "    <tr>\n",
              "      <th>1</th>\n",
              "      <td>1</td>\n",
              "      <td>1</td>\n",
              "      <td>1</td>\n",
              "      <td>5.000000</td>\n",
              "      <td>0.36</td>\n",
              "      <td>5224</td>\n",
              "    </tr>\n",
              "    <tr>\n",
              "      <th>2</th>\n",
              "      <td>0</td>\n",
              "      <td>0</td>\n",
              "      <td>1</td>\n",
              "      <td>5.800000</td>\n",
              "      <td>0.49</td>\n",
              "      <td>5489</td>\n",
              "    </tr>\n",
              "    <tr>\n",
              "      <th>3</th>\n",
              "      <td>1</td>\n",
              "      <td>1</td>\n",
              "      <td>1</td>\n",
              "      <td>2.600000</td>\n",
              "      <td>0.20</td>\n",
              "      <td>5251</td>\n",
              "    </tr>\n",
              "    <tr>\n",
              "      <th>4</th>\n",
              "      <td>0</td>\n",
              "      <td>1</td>\n",
              "      <td>0</td>\n",
              "      <td>6.900000</td>\n",
              "      <td>0.52</td>\n",
              "      <td>5353</td>\n",
              "    </tr>\n",
              "    <tr>\n",
              "      <th>...</th>\n",
              "      <td>...</td>\n",
              "      <td>...</td>\n",
              "      <td>...</td>\n",
              "      <td>...</td>\n",
              "      <td>...</td>\n",
              "      <td>...</td>\n",
              "    </tr>\n",
              "    <tr>\n",
              "      <th>22745</th>\n",
              "      <td>0</td>\n",
              "      <td>1</td>\n",
              "      <td>0</td>\n",
              "      <td>5.728188</td>\n",
              "      <td>0.41</td>\n",
              "      <td>5194</td>\n",
              "    </tr>\n",
              "    <tr>\n",
              "      <th>22746</th>\n",
              "      <td>0</td>\n",
              "      <td>0</td>\n",
              "      <td>1</td>\n",
              "      <td>6.700000</td>\n",
              "      <td>0.59</td>\n",
              "      <td>5540</td>\n",
              "    </tr>\n",
              "    <tr>\n",
              "      <th>22747</th>\n",
              "      <td>1</td>\n",
              "      <td>1</td>\n",
              "      <td>1</td>\n",
              "      <td>5.728188</td>\n",
              "      <td>0.72</td>\n",
              "      <td>5249</td>\n",
              "    </tr>\n",
              "    <tr>\n",
              "      <th>22748</th>\n",
              "      <td>0</td>\n",
              "      <td>1</td>\n",
              "      <td>0</td>\n",
              "      <td>5.900000</td>\n",
              "      <td>0.52</td>\n",
              "      <td>5549</td>\n",
              "    </tr>\n",
              "    <tr>\n",
              "      <th>22749</th>\n",
              "      <td>1</td>\n",
              "      <td>0</td>\n",
              "      <td>0</td>\n",
              "      <td>7.800000</td>\n",
              "      <td>0.61</td>\n",
              "      <td>5553</td>\n",
              "    </tr>\n",
              "  </tbody>\n",
              "</table>\n",
              "<p>22750 rows × 6 columns</p>\n",
              "</div>"
            ],
            "text/plain": [
              "       Sexo  Atuacao  Home_Office  Fadiga_Mental  Burnout  Dias\n",
              "0         0        1            0       3.800000     0.16  5285\n",
              "1         1        1            1       5.000000     0.36  5224\n",
              "2         0        0            1       5.800000     0.49  5489\n",
              "3         1        1            1       2.600000     0.20  5251\n",
              "4         0        1            0       6.900000     0.52  5353\n",
              "...     ...      ...          ...            ...      ...   ...\n",
              "22745     0        1            0       5.728188     0.41  5194\n",
              "22746     0        0            1       6.700000     0.59  5540\n",
              "22747     1        1            1       5.728188     0.72  5249\n",
              "22748     0        1            0       5.900000     0.52  5549\n",
              "22749     1        0            0       7.800000     0.61  5553\n",
              "\n",
              "[22750 rows x 6 columns]"
            ]
          },
          "execution_count": 43,
          "metadata": {},
          "output_type": "execute_result"
        }
      ],
      "source": [
        "df"
      ]
    },
    {
      "cell_type": "code",
      "execution_count": 44,
      "metadata": {
        "colab": {
          "base_uri": "https://localhost:8080/",
          "height": 348
        },
        "id": "51R46ZUkn-r9",
        "outputId": "d01087ca-d5ce-40aa-9217-2d8758127f71"
      },
      "outputs": [
        {
          "data": {
            "text/plain": [
              "<Axes: >"
            ]
          },
          "execution_count": 44,
          "metadata": {},
          "output_type": "execute_result"
        },
        {
          "data": {
            "image/png": "[encoded data removed]",
            "text/plain": [
              "<Figure size 640x480 with 2 Axes>"
            ]
          },
          "metadata": {},
          "output_type": "display_data"
        }
      ],
      "source": [
        "correlacao = df.corr(method='pearson')\n",
        "plot = sns.heatmap(df.corr(method='pearson'),  annot = True, fmt=\".1f\", linewidths=.6)\n",
        "plot"
      ]
    },
    {
      "cell_type": "markdown",
      "metadata": {
        "id": "_4XCcVT2sI40"
      },
      "source": [
        "### Criando variável x (alvo) e y (dependente)"
      ]
    },
    {
      "cell_type": "code",
      "execution_count": 45,
      "metadata": {
        "id": "bb0_zyOzsBqY"
      },
      "outputs": [],
      "source": [
        "#y = df.pop(\"Fadiga Mental\")\n",
        "y = df.pop(\"Burnout\")\n",
        "X = df"
      ]
    },
    {
      "cell_type": "markdown",
      "metadata": {
        "id": "0bGtvbLbslqv"
      },
      "source": [
        "### Fazendo a amostragem de dados"
      ]
    },
    {
      "cell_type": "markdown",
      "metadata": {
        "id": "LByorKV4tyVw"
      },
      "source": [
        "Iniciando com train test split"
      ]
    },
    {
      "cell_type": "code",
      "execution_count": 46,
      "metadata": {
        "id": "Dtm6X3NJs2SX"
      },
      "outputs": [],
      "source": [
        "X_train,X_test,y_train,y_test = train_test_split(X,y,train_size=0.8,random_state= 42)          #usa 80% dos para treinar e 20% para avaliar;   "
      ]
    },
    {
      "cell_type": "markdown",
      "metadata": {
        "id": "j4sl5HLHt6nk"
      },
      "source": [
        "Mostrando os dados de treino e teste"
      ]
    },
    {
      "cell_type": "code",
      "execution_count": 47,
      "metadata": {
        "colab": {
          "base_uri": "https://localhost:8080/"
        },
        "id": "5krIB-_ruNtH",
        "outputId": "3e1a0390-c2cb-4a73-b6af-25ef7b189916"
      },
      "outputs": [
        {
          "name": "stdout",
          "output_type": "stream",
          "text": [
            "train data size:  (18200, 5)\n",
            "test data size:  (4550, 5)\n"
          ]
        }
      ],
      "source": [
        "print(\"train data size: \",X_train.shape)\n",
        "print(\"test data size: \",X_test.shape)"
      ]
    },
    {
      "cell_type": "code",
      "execution_count": 49,
      "metadata": {
        "colab": {
          "base_uri": "https://localhost:8080/"
        },
        "id": "azROhSUCVxO5",
        "outputId": "47d45580-f77f-4d2a-ca96-1e5d3558359d"
      },
      "outputs": [
        {
          "name": "stdout",
          "output_type": "stream",
          "text": [
            "[1 1 0 ... 1 1 0]\n",
            "[0 1 0 ... 1 0 1]\n"
          ]
        }
      ],
      "source": [
        "x = df.iloc[:, 1].values\n",
        "y = df.iloc[:, 0].values\n",
        "print(x)\n",
        "print(y)"
      ]
    },
    {
      "cell_type": "markdown",
      "metadata": {
        "id": "zsHqZvEjd7O3"
      },
      "source": [
        "**Light GBM Regression** \n"
      ]
    },
    {
      "cell_type": "code",
      "execution_count": 50,
      "metadata": {
        "id": "4EjvF1_kd86R"
      },
      "outputs": [],
      "source": [
        "# Iniciando o Modelo\n",
        "lg = LGBMRegressor()\n",
        "\n",
        "# Fit the model\n",
        "lg.fit(X_train, y_train)\n",
        "\n",
        "# Realizando predições\n",
        "lg_y_pred = lg.predict(X_test)"
      ]
    },
    {
      "cell_type": "code",
      "execution_count": 51,
      "metadata": {
        "colab": {
          "base_uri": "https://localhost:8080/"
        },
        "id": "JBlnNJhmW3Ny",
        "outputId": "112818e4-14e4-4aaa-87ae-50db15c282bb"
      },
      "outputs": [
        {
          "name": "stdout",
          "output_type": "stream",
          "text": [
            "Light GBM Regression R2:  0.7871126742950698\n",
            "Light GBM Regression RMSE: 0.08753734232694953\n",
            "Light GBM Regression MAE: 0.06383844154793544\n",
            "Light GBM Regression MSE: 0.00766278630166555\n",
            "Light GBM Regression R ajustado: 0.7868784232764685\n"
          ]
        }
      ],
      "source": [
        "##Métricas de Avaliação\n",
        "  #R-Quadrado (Quanto maior o valor, melhor)\n",
        "lr_r2= r2_score(y_test, lg_y_pred)\n",
        "print(\"Light GBM Regression R2: \", lr_r2)\n",
        "\n",
        "  #Raiz do erro quadrático médio (RMSE) (Quanto menor o valor, melhor)\n",
        "rmse = (np.sqrt(mean_squared_error(y_test,lg_y_pred)))\n",
        "print(\"Light GBM Regression RMSE:\", rmse)\n",
        "\n",
        "  #Erro Absoluto Médio (MAE) (Quanto maior o valor, melhor)\n",
        "MAE = mean_absolute_error(y_test,lg_y_pred)\n",
        "print(\"Light GBM Regression MAE:\",MAE)\n",
        "\n",
        "  #Erro Quadrático Médio (MSE) (Quanto menor o valor, melhor)\n",
        "MSE = mean_squared_error(y_test,lg_y_pred)\n",
        "print(\"Light GBM Regression MSE:\", MSE)\n",
        "\n",
        "  #R-Quadrado Ajustado (Quanto maior o valor, melhor)\n",
        "def adjusted_r2(y_test, y_pred,X_train):\n",
        "  Adj_r2 = (1 - ((1 - r2_score(y_test, y_pred)) * (len(y_test) - 1)) / \n",
        "          (len(y_test) - X_train.shape[1] - 1))\n",
        "    \n",
        "  return Adj_r2\n",
        "\n",
        "print(\"Light GBM Regression R ajustado:\", adjusted_r2(y_test, lg_y_pred, X_train))"
      ]
    },
    {
      "cell_type": "markdown",
      "metadata": {
        "id": "Z6xyahNchdGH"
      },
      "source": [
        "Salvando a máquina"
      ]
    },
    {
      "cell_type": "code",
      "execution_count": 52,
      "metadata": {
        "id": "pWjuoIfjhcH5"
      },
      "outputs": [],
      "source": [
        "#Comando de Salvamento da Máquina Preditiva\n",
        "import pickle \n",
        "pickle_out = open(\"maquina_preditiva.pkl\", mode = \"wb\") \n",
        "pickle.dump(lg, pickle_out) \n",
        "pickle_out.close()"
      ]
    }
  ],
  "metadata": {
    "colab": {
      "provenance": []
    },
    "kernelspec": {
      "display_name": "Python 3",
      "name": "python3"
    },
    "language_info": {
      "codemirror_mode": {
        "name": "ipython",
        "version": 3
      },
      "file_extension": ".py",
      "mimetype": "text/x-python",
      "name": "python",
      "nbconvert_exporter": "python",
      "pygments_lexer": "ipython3",
      "version": "3.10.9"
    }
  },
  "nbformat": 4,
  "nbformat_minor": 0
}
